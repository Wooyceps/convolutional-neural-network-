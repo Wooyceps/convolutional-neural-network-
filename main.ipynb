{
 "cells": [
  {
   "cell_type": "code",
   "outputs": [],
   "source": [
    "import gzip\n",
    "import numpy as np"
   ],
   "metadata": {
    "collapsed": false
   },
   "id": "98727ef2d2995185",
   "execution_count": null
  },
  {
   "cell_type": "code",
   "outputs": [],
   "source": [
    "def load_mnist_images(filename):\n",
    "    with gzip.open(filename, 'rb') as f:\n",
    "        data = np.frombuffer(f.read(), np.uint8, offset=16)\n",
    "        data = data.reshape(-1, 28, 28)\n",
    "    return data\n",
    "\n",
    "def load_mnist_labels(filename):\n",
    "    with gzip.open(filename, 'rb') as f:\n",
    "        labels = np.frombuffer(f.read(), np.uint8, offset=8)\n",
    "    return labels"
   ],
   "metadata": {
    "collapsed": false
   },
   "id": "543314549e160033",
   "execution_count": null
  },
  {
   "cell_type": "code",
   "outputs": [],
   "source": [
    "# Wczytanie danych treningowych i testowych\n",
    "train_images = load_mnist_images('train-images-idx3-ubyte.gz')\n",
    "train_labels = load_mnist_labels('train-labels-idx1-ubyte.gz')\n",
    "test_images = load_mnist_images('t10k-images-idx3-ubyte.gz')\n",
    "test_labels = load_mnist_labels('t10k-labels-idx1-ubyte.gz')"
   ],
   "metadata": {
    "collapsed": false
   },
   "id": "68b88c33c3938ffb",
   "execution_count": null
  },
  {
   "cell_type": "code",
   "outputs": [],
   "source": [
    "# Normalizacja danych obrazu, aby były między 0 a 1\n",
    "train_images = train_images / 255.0\n",
    "test_images = test_images / 255.0\n",
    "\n",
    "# Dodanie dodatkowego wymiaru (kanału koloru) do danych obrazu\n",
    "train_images = np.expand_dims(train_images, axis=-1)\n",
    "test_images = np.expand_dims(test_images, axis=-1)"
   ],
   "metadata": {
    "collapsed": false
   },
   "id": "9662baf95b7ae30a",
   "execution_count": null
  },
  {
   "cell_type": "code",
   "outputs": [],
   "source": [
    "# Definiowanie liczby klas i konwersja etykiet na kodowanie one-hot\n",
    "num_classes = 10\n",
    "train_labels = np.eye(num_classes)[train_labels]\n",
    "test_labels = np.eye(num_classes)[test_labels]"
   ],
   "metadata": {
    "collapsed": false
   },
   "id": "9daa9a5fcc0583bd",
   "execution_count": null
  },
  {
   "cell_type": "code",
   "outputs": [],
   "source": [
    "# Wyświetlenie kształtu danych obrazu i etykiet\n",
    "print(f'train_images shape: {train_images.shape}')\n",
    "print(f'test_images shape: {test_images.shape}')\n",
    "print(f'train_labels shape: {train_labels.shape}')\n",
    "print(f'test_labels shape: {test_labels.shape}')"
   ],
   "metadata": {
    "collapsed": false
   },
   "id": "c86fcb43a80a5271",
   "execution_count": null
  },
  {
   "cell_type": "code",
   "outputs": [],
   "source": [
    "from tensorflow.keras.layers import Conv2D, Dense, Flatten, MaxPooling2D\n",
    "from tensorflow.keras.models import Sequential\n",
    "\n",
    "def build_model(input_shape, num_classes):\n",
    "    model = Sequential()\n",
    "    model.add(Conv2D(32, (3, 3), activation='relu', input_shape=input_shape))\n",
    "    model.add(MaxPooling2D((2, 2)))\n",
    "\n",
    "    model.add(Conv2D(64, (3, 3), activation='relu'))\n",
    "    model.add(MaxPooling2D((2, 2)))\n",
    "\n",
    "    model.add(Conv2D(64, (3, 3), activation='relu'))\n",
    "    model.add(Flatten())\n",
    "    model.add(Dense(64, activation='relu'))\n",
    "    model.add(Dense(num_classes, activation='softmax'))\n",
    "\n",
    "    return model\n",
    "\n",
    "# Parametry modelu\n",
    "input_shape = (28, 28, 1)  # Dla obrazów Kazushji-MNIST (KMNIST)\n",
    "num_classes = 10  # Liczba kategorii w Kazushji-MNIST (różnych znaków)\n",
    "\n",
    "# Budowanie modelu\n",
    "model = build_model(input_shape, num_classes)\n",
    "\n",
    "# Kompilacja modelu\n",
    "model.compile(optimizer='adam',\n",
    "              loss='categorical_crossentropy',\n",
    "              metrics=['accuracy'])\n",
    "\n",
    "# Podsumowanie i wyświetlenie tabeli z informacjami o modelu\n",
    "model.summary()"
   ],
   "metadata": {
    "collapsed": false
   },
   "id": "ccc92e173d793696",
   "execution_count": null
  },
  {
   "cell_type": "code",
   "outputs": [],
   "source": [
    "from tensorflow.keras.callbacks import ModelCheckpoint, ReduceLROnPlateau\n",
    "\n",
    "checkpoint_callback = ModelCheckpoint('model.keras', save_best_only=True)\n",
    "reduce_lr_callback = ReduceLROnPlateau(monitor='val_loss', factor=0.2, patience=5, min_lr=0.001)\n",
    "\n",
    "hist = model.fit(train_images, train_labels, epochs=10, batch_size=64, validation_split=0.2, \n",
    "                 callbacks=[checkpoint_callback, reduce_lr_callback])"
   ],
   "metadata": {
    "collapsed": false
   },
   "id": "9e94f08f788a1090",
   "execution_count": null
  },
  {
   "cell_type": "code",
   "outputs": [],
   "source": [
    "import matplotlib.pyplot as plt\n",
    "\n",
    "# Wykres dokładności modelu\n",
    "plt.plot(hist.history['accuracy'])\n",
    "plt.plot(hist.history['val_accuracy'])\n",
    "plt.title('Dokładność modelu')\n",
    "plt.ylabel('Dokładność')\n",
    "plt.xlabel('Epoka')\n",
    "plt.legend(['Trening', 'Walidacja'], loc='upper left')\n",
    "plt.show()\n",
    "\n",
    "# Wykres funkcji straty modelu\n",
    "plt.plot(hist.history['loss'])\n",
    "plt.plot(hist.history['val_loss'])\n",
    "plt.title('Funkcja straty modelu')\n",
    "plt.ylabel('Wartość funkcji straty')\n",
    "plt.xlabel('Epoka')\n",
    "plt.legend(['Trening', 'Walidacja'], loc='upper left')\n",
    "plt.show()"
   ],
   "metadata": {
    "collapsed": false
   },
   "id": "a8a44ba5f1599dbf",
   "execution_count": null
  },
  {
   "cell_type": "code",
   "outputs": [],
   "source": [
    "# Przewidywanie etykiet dla zbioru testowego\n",
    "predictions = model.predict(test_images)\n",
    "predicted_labels = np.argmax(predictions, axis=1)\n",
    "print(predictions.shape)\n",
    "print(predicted_labels)"
   ],
   "metadata": {
    "collapsed": false
   },
   "id": "23cc05f7b21bf4f2",
   "execution_count": null
  },
  {
   "cell_type": "code",
   "outputs": [],
   "source": [
    "def plot_images(images, true_labels, predicted_labels, class_names, num_images=25):\n",
    "    true_label_indices = np.argmax(true_labels, axis=1)  # Convert from one-hot to class indices\n",
    "    plt.figure(figsize=(15, 18))\n",
    "    for i in range(num_images):\n",
    "        plt.subplot(5, 5, i + 1)\n",
    "        plt.xticks([])\n",
    "        plt.yticks([])\n",
    "        plt.grid(False)\n",
    "        plt.imshow(images[i], cmap=plt.cm.binary)\n",
    "        color = 'green' if predicted_labels[i] == true_label_indices[i] else 'red'\n",
    "        plt.xlabel(f\"True: {class_names[true_label_indices[i]]}\\nPred: {class_names[predicted_labels[i]]}\", color=color)\n",
    "    plt.show()\n",
    "\n",
    "# Nazwy klas (etykiety)\n",
    "class_names = ['O', 'KI', 'SU', 'TSU', 'NA',\n",
    "               'HA', 'MA', 'YA', 'RE', 'WO']\n",
    "\n",
    "# Wywołanie funkcji plot_images\n",
    "plot_images(test_images[:25], test_labels[:25], predicted_labels[:25], class_names)"
   ],
   "metadata": {
    "collapsed": false
   },
   "id": "a095c332a41e2f01",
   "execution_count": null
  }
 ],
 "metadata": {
  "kernelspec": {
   "display_name": "Python 3",
   "language": "python",
   "name": "python3"
  },
  "language_info": {
   "codemirror_mode": {
    "name": "ipython",
    "version": 2
   },
   "file_extension": ".py",
   "mimetype": "text/x-python",
   "name": "python",
   "nbconvert_exporter": "python",
   "pygments_lexer": "ipython2",
   "version": "2.7.6"
  }
 },
 "nbformat": 4,
 "nbformat_minor": 5
}
