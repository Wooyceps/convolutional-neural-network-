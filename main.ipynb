{
 "cells": [
  {
   "cell_type": "code",
   "outputs": [],
   "source": [
    "import gzip\n",
    "import numpy as np"
   ],
   "metadata": {
    "collapsed": false
   },
   "id": "98727ef2d2995185"
  },
  {
   "cell_type": "code",
   "outputs": [],
   "source": [
    "def load_mnist_images(filename):\n",
    "    \"\"\"\n",
    "    Function to load MNIST image data from a .gz file.\n",
    "\n",
    "    Parameters:\n",
    "    filename (str): The name of the .gz file to read.\n",
    "\n",
    "    Returns:\n",
    "    np.array: A numpy array containing the image data.\n",
    "    \"\"\"\n",
    "    with gzip.open(filename, 'rb') as f:\n",
    "        data = np.frombuffer(f.read(), np.uint8, offset=16)\n",
    "        data = data.reshape(-1, 28, 28)\n",
    "    return data\n",
    "\n",
    "def load_mnist_labels(filename):\n",
    "    \"\"\"\n",
    "    Function to load MNIST label data from a .gz file.\n",
    "\n",
    "    Parameters:\n",
    "    filename (str): The name of the .gz file to read.\n",
    "\n",
    "    Returns:\n",
    "    np.array: A numpy array containing the label data.\n",
    "    \"\"\"\n",
    "    with gzip.open(filename, 'rb') as f:\n",
    "        labels = np.frombuffer(f.read(), np.uint8, offset=8)\n",
    "    return labels"
   ],
   "metadata": {
    "collapsed": false
   },
   "id": "543314549e160033"
  },
  {
   "cell_type": "code",
   "outputs": [],
   "source": [
    "# Load the training and test data\n",
    "train_images = load_mnist_images('train-images-idx3-ubyte.gz')\n",
    "train_labels = load_mnist_labels('train-labels-idx1-ubyte.gz')\n",
    "test_images = load_mnist_images('t10k-images-idx3-ubyte.gz')\n",
    "test_labels = load_mnist_labels('t10k-labels-idx1-ubyte.gz')"
   ],
   "metadata": {
    "collapsed": false
   },
   "id": "68b88c33c3938ffb"
  },
  {
   "cell_type": "code",
   "outputs": [],
   "source": [
    "# Normalize the image data to be between 0 and 1\n",
    "train_images = train_images / 255.0\n",
    "test_images = test_images / 255.0\n",
    "\n",
    "# Add an extra dimension to the image data\n",
    "train_images = np.expand_dims(train_images, axis=-1)\n",
    "test_images = np.expand_dims(test_images, axis=-1)"
   ],
   "metadata": {
    "collapsed": false
   },
   "id": "9662baf95b7ae30a"
  },
  {
   "cell_type": "code",
   "outputs": [],
   "source": [
    "# Define the number of classes and convert the labels to one-hot encoding\n",
    "num_classes = 10\n",
    "train_labels = np.eye(num_classes)[train_labels]\n",
    "test_labels = np.eye(num_classes)[test_labels]"
   ],
   "metadata": {
    "collapsed": false
   },
   "id": "9daa9a5fcc0583bd"
  },
  {
   "cell_type": "code",
   "outputs": [],
   "source": [],
   "metadata": {
    "collapsed": false
   },
   "id": "c86fcb43a80a5271"
  }
 ],
 "metadata": {
  "kernelspec": {
   "display_name": "Python 3",
   "language": "python",
   "name": "python3"
  },
  "language_info": {
   "codemirror_mode": {
    "name": "ipython",
    "version": 2
   },
   "file_extension": ".py",
   "mimetype": "text/x-python",
   "name": "python",
   "nbconvert_exporter": "python",
   "pygments_lexer": "ipython2",
   "version": "2.7.6"
  }
 },
 "nbformat": 4,
 "nbformat_minor": 5
}
